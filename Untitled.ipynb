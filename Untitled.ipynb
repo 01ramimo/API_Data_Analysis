{
 "cells": [
  {
   "cell_type": "code",
   "execution_count": 6,
   "id": "c2019d69",
   "metadata": {},
   "outputs": [
    {
     "name": "stdout",
     "output_type": "stream",
     "text": [
      "Requirement already satisfied: matplotlib-inline in c:\\users\\01ram\\anaconda3\\envs\\pythondata\\lib\\site-packages (0.1.3)\n",
      "Requirement already satisfied: traitlets in c:\\users\\01ram\\anaconda3\\envs\\pythondata\\lib\\site-packages (from matplotlib-inline) (5.0.5)\n",
      "Requirement already satisfied: ipython-genutils in c:\\users\\01ram\\anaconda3\\envs\\pythondata\\lib\\site-packages (from traitlets->matplotlib-inline) (0.2.0)\n"
     ]
    }
   ],
   "source": [
    "!pip install matplotlib-inline"
   ]
  },
  {
   "cell_type": "code",
   "execution_count": 12,
   "id": "4276a374",
   "metadata": {},
   "outputs": [
    {
     "ename": "SyntaxError",
     "evalue": "invalid syntax (<ipython-input-12-fcbb4cd4dfcf>, line 2)",
     "output_type": "error",
     "traceback": [
      "\u001b[1;36m  File \u001b[1;32m\"<ipython-input-12-fcbb4cd4dfcf>\"\u001b[1;36m, line \u001b[1;32m2\u001b[0m\n\u001b[1;33m    import matplotlibin-line\u001b[0m\n\u001b[1;37m                       ^\u001b[0m\n\u001b[1;31mSyntaxError\u001b[0m\u001b[1;31m:\u001b[0m invalid syntax\n"
     ]
    }
   ],
   "source": [
    "#%matplotlib inline\n",
    "import matplotlib in-line"
   ]
  },
  {
   "cell_type": "code",
   "execution_count": null,
   "id": "602c5854",
   "metadata": {},
   "outputs": [],
   "source": [
    "%mat"
   ]
  }
 ],
 "metadata": {
  "kernelspec": {
   "display_name": "PythonData",
   "language": "python",
   "name": "pythondata"
  },
  "language_info": {
   "codemirror_mode": {
    "name": "ipython",
    "version": 3
   },
   "file_extension": ".py",
   "mimetype": "text/x-python",
   "name": "python",
   "nbconvert_exporter": "python",
   "pygments_lexer": "ipython3",
   "version": "3.7.10"
  }
 },
 "nbformat": 4,
 "nbformat_minor": 5
}
